{
 "cells": [
  {
   "cell_type": "code",
   "execution_count": 1,
   "metadata": {
    "scrolled": true
   },
   "outputs": [
    {
     "data": {
      "text/html": [
       "<div>\n",
       "<style scoped>\n",
       "    .dataframe tbody tr th:only-of-type {\n",
       "        vertical-align: middle;\n",
       "    }\n",
       "\n",
       "    .dataframe tbody tr th {\n",
       "        vertical-align: top;\n",
       "    }\n",
       "\n",
       "    .dataframe thead th {\n",
       "        text-align: right;\n",
       "    }\n",
       "</style>\n",
       "<table border=\"1\" class=\"dataframe\">\n",
       "  <thead>\n",
       "    <tr style=\"text-align: right;\">\n",
       "      <th></th>\n",
       "      <th>Year</th>\n",
       "      <th>Cause</th>\n",
       "      <th>Rate</th>\n",
       "    </tr>\n",
       "  </thead>\n",
       "  <tbody>\n",
       "    <tr>\n",
       "      <th>0</th>\n",
       "      <td>2016</td>\n",
       "      <td>Alzheimer's disease</td>\n",
       "      <td>30.3</td>\n",
       "    </tr>\n",
       "    <tr>\n",
       "      <th>1</th>\n",
       "      <td>2015</td>\n",
       "      <td>Alzheimer's disease</td>\n",
       "      <td>29.4</td>\n",
       "    </tr>\n",
       "    <tr>\n",
       "      <th>2</th>\n",
       "      <td>2014</td>\n",
       "      <td>Alzheimer's disease</td>\n",
       "      <td>25.4</td>\n",
       "    </tr>\n",
       "    <tr>\n",
       "      <th>3</th>\n",
       "      <td>2013</td>\n",
       "      <td>Alzheimer's disease</td>\n",
       "      <td>23.5</td>\n",
       "    </tr>\n",
       "    <tr>\n",
       "      <th>4</th>\n",
       "      <td>2012</td>\n",
       "      <td>Alzheimer's disease</td>\n",
       "      <td>23.8</td>\n",
       "    </tr>\n",
       "  </tbody>\n",
       "</table>\n",
       "</div>"
      ],
      "text/plain": [
       "   Year                Cause  Rate\n",
       "0  2016  Alzheimer's disease  30.3\n",
       "1  2015  Alzheimer's disease  29.4\n",
       "2  2014  Alzheimer's disease  25.4\n",
       "3  2013  Alzheimer's disease  23.5\n",
       "4  2012  Alzheimer's disease  23.8"
      ]
     },
     "execution_count": 1,
     "metadata": {},
     "output_type": "execute_result"
    }
   ],
   "source": [
    "# import dependencies\n",
    "import pandas as pd\n",
    "import numpy as np\n",
    "import math \n",
    "from flask import jsonify\n",
    "\n",
    "file7 = pd.read_csv('USOnly.csv')\n",
    "USdf = file7.loc[:,:]\n",
    "# USdf.groupby(\"Cause Name\").mean()\n",
    "USdf.drop('State', axis=1, inplace=True)\n",
    "USdf.drop('Deaths', axis=1, inplace=True)\n",
    "USdf.columns = ['Year', 'Cause', 'Rate']\n",
    "# USdf2 = USdf.set_index(['Cause'])\n",
    "USdf.head()\n",
    "#USdf.to_dict(orient=\"list\")"
   ]
  },
  {
   "cell_type": "code",
   "execution_count": 2,
   "metadata": {},
   "outputs": [],
   "source": [
    "# import dependencies\n",
    "import pandas as pd\n",
    "import numpy as np\n",
    "import math\n",
    "from flask import jsonify\n",
    "\n",
    "file2 = pd.read_csv('NCHS_-_Leading_Causes_of_Death__United_States.csv')\n",
    "StatesOnly = file2.loc[file2[\"State\"] != \"United States\", :]\n",
    "\n",
    "StatesOnly2 = StatesOnly.loc[StatesOnly[\"Cause Name\"] != \"All causes\", :]\n",
    "\n",
    "StatesOnly3 = StatesOnly2.drop(['113 Cause Name'], axis=1)\n",
    "StatesOnly4 = StatesOnly3.drop(['Deaths'], axis=1)\n",
    "StatesOnly4.columns = ['Year', 'Cause', 'State', 'Rate']\n",
    "# StatesOnly4.head()\n",
    "#data3\n",
    "# print(StatesOnly4.to_dict(orient=\"list\"))\n",
    "\n",
    "# StatesOnly4.to_csv('StatesOnly4.csv', index=False)"
   ]
  },
  {
   "cell_type": "code",
   "execution_count": null,
   "metadata": {},
   "outputs": [],
   "source": []
  },
  {
   "cell_type": "markdown",
   "metadata": {},
   "source": [
    "###########################################################################################################################\n",
    "## data for pie chart:"
   ]
  },
  {
   "cell_type": "markdown",
   "metadata": {},
   "source": [
    "### for pie chart percent 2016:"
   ]
  },
  {
   "cell_type": "code",
   "execution_count": 3,
   "metadata": {},
   "outputs": [
    {
     "name": "stdout",
     "output_type": "stream",
     "text": [
      "{'Cause Name': ['Heart disease', 'CLRD', 'Unintentional injuries', 'Cancer', 'Stroke', \"Alzheimer's disease\", 'Diabetes', 'Influenza and pneumonia', 'Kidney disease', 'Suicide'], 'Percents': [31.230227926684723, 29.40034481758442, 7.933360830905173, 7.600145320898139, 6.987890089026257, 5.7077781585049845, 3.9357579374658025, 2.5336275802939747, 2.4603280339055877, 2.2105393047309425]}\n"
     ]
    }
   ],
   "source": [
    "# import dependencies\n",
    "import pandas as pd\n",
    "import numpy as np\n",
    "import math\n",
    "from flask import jsonify\n",
    "\n",
    "#look at US causes of death in 2016\n",
    "# pull US info from un-cleaned data file\n",
    "file2 = pd.read_csv('NCHS_-_Leading_Causes_of_Death__United_States.csv')\n",
    "USOnly = file2.loc[file2[\"State\"] == \"United States\", :]\n",
    "USOnly2 = USOnly.loc[USOnly[\"Cause Name\"] != \"All causes\", :]\n",
    "#grab only 2016\n",
    "USOnly3 = USOnly2.loc[USOnly[\"Year\"] == 2016, :]\n",
    "\n",
    "# use initial data table to calculate percents for each death cause\n",
    "totalDeaths2 = USOnly3[\"Deaths\"].sum()\n",
    "causeDeaths2 = USOnly3.groupby('Cause Name')['Deaths'].sum()\n",
    "uPercent2 = (causeDeaths2.loc['Unintentional injuries'] / totalDeaths2) * 100\n",
    "aPercent2 = (causeDeaths2.loc[\"Alzheimer's disease\"] / totalDeaths2) * 100\n",
    "cancerPercent2 = (causeDeaths2.loc['Cancer'] / totalDeaths2) * 100\n",
    "CLRDPercent2 = (causeDeaths2.loc['CLRD'] / totalDeaths2) * 100\n",
    "diabetesPercent2 = (causeDeaths2.loc['Diabetes'] / totalDeaths2) * 100\n",
    "hPercent2 = (causeDeaths2.loc['Heart disease'] / totalDeaths2) * 100\n",
    "iPercent2 = (causeDeaths2.loc['Influenza and pneumonia'] / totalDeaths2) * 100\n",
    "kPercent2 = (causeDeaths2.loc['Kidney disease'] / totalDeaths2) * 100\n",
    "strokePercent2 = (causeDeaths2.loc['Stroke'] / totalDeaths2) * 100\n",
    "suicidePercent2 = (causeDeaths2.loc['Suicide'] / totalDeaths2) * 100\n",
    "\n",
    "# create datafrane to hold the data we already have\n",
    "USOnly4 = USOnly3.drop(['113 Cause Name'], axis=1)\n",
    "USOnly5 = USOnly4.drop(['Deaths'], axis=1)\n",
    "USOnly6 = USOnly5.drop(['Year'], axis=1)\n",
    "USOnly7 = USOnly6.drop(['Age-adjusted Death Rate'], axis=1)\n",
    "USOnly8 = USOnly7.drop(['State'], axis=1) \n",
    "USOnly8\n",
    "\n",
    "# Define list for new coulmn - in alaphabetical order because referenced dataframe has cause name alphabetical\n",
    "causePercents2 = [aPercent2, CLRDPercent2, cancerPercent2, diabetesPercent2, hPercent2, iPercent2, kPercent2, strokePercent2, suicidePercent2, uPercent2]\n",
    "# insert new column into existing dataframe\n",
    "USOnly8.insert(loc=1, column='Percents', value=causePercents2)\n",
    "# sort cause percents in descending order (high to low)\n",
    "USOnly9 = USOnly8.sort_values([\"Percents\"], ascending=False)\n",
    "# causeDeathsDf5 = causeDeathsDf4.drop(['Deaths'], axis=1)\n",
    "# rename columns\n",
    "# causeDeathsDf4 = causeDeathsDf4.rename(columns={\"Deaths\": \"US Deaths\", \"Cause Percents\": \"US Cause Percents\"})\n",
    "#display dataframe\n",
    "\n",
    "#data4\n",
    "print(USOnly9.to_dict(orient=\"list\"))"
   ]
  },
  {
   "cell_type": "markdown",
   "metadata": {},
   "source": [
    "### for pie chart percent 2008:"
   ]
  },
  {
   "cell_type": "code",
   "execution_count": 4,
   "metadata": {},
   "outputs": [
    {
     "name": "stdout",
     "output_type": "stream",
     "text": [
      "{'Cause Name': ['Heart disease', 'CLRD', 'Cancer', 'Stroke', 'Unintentional injuries', \"Alzheimer's disease\", 'Diabetes', 'Influenza and pneumonia', 'Kidney disease', 'Suicide'], 'Percents': [32.93295553985865, 30.190856180601937, 7.532911439037555, 7.162272334850167, 6.508448297126346, 4.401272623694528, 3.766882846115364, 3.0050491702798907, 2.5754132049390788, 1.9239383634964797]}\n"
     ]
    }
   ],
   "source": [
    "# import dependencies\n",
    "import pandas as pd\n",
    "import numpy as np\n",
    "import math\n",
    "from flask import jsonify\n",
    "\n",
    "#look at US causes of death in 2016\n",
    "# pull US info from un-cleaned data file\n",
    "file2 = pd.read_csv('NCHS_-_Leading_Causes_of_Death__United_States.csv')\n",
    "USOnly = file2.loc[file2[\"State\"] == \"United States\", :]\n",
    "USOnly2 = USOnly.loc[USOnly[\"Cause Name\"] != \"All causes\", :]\n",
    "#grab only 2016\n",
    "USOnly3 = USOnly2.loc[USOnly[\"Year\"] == 2008, :]\n",
    "\n",
    "# use initial data table to calculate percents for each death cause\n",
    "totalDeaths2 = USOnly3[\"Deaths\"].sum()\n",
    "causeDeaths2 = USOnly3.groupby('Cause Name')['Deaths'].sum()\n",
    "uPercent2 = (causeDeaths2.loc['Unintentional injuries'] / totalDeaths2) * 100\n",
    "aPercent2 = (causeDeaths2.loc[\"Alzheimer's disease\"] / totalDeaths2) * 100\n",
    "cancerPercent2 = (causeDeaths2.loc['Cancer'] / totalDeaths2) * 100\n",
    "CLRDPercent2 = (causeDeaths2.loc['CLRD'] / totalDeaths2) * 100\n",
    "diabetesPercent2 = (causeDeaths2.loc['Diabetes'] / totalDeaths2) * 100\n",
    "hPercent2 = (causeDeaths2.loc['Heart disease'] / totalDeaths2) * 100\n",
    "iPercent2 = (causeDeaths2.loc['Influenza and pneumonia'] / totalDeaths2) * 100\n",
    "kPercent2 = (causeDeaths2.loc['Kidney disease'] / totalDeaths2) * 100\n",
    "strokePercent2 = (causeDeaths2.loc['Stroke'] / totalDeaths2) * 100\n",
    "suicidePercent2 = (causeDeaths2.loc['Suicide'] / totalDeaths2) * 100\n",
    "\n",
    "# create datafrane to hold the data we already have\n",
    "USOnly4 = USOnly3.drop(['113 Cause Name'], axis=1)\n",
    "USOnly5 = USOnly4.drop(['Deaths'], axis=1)\n",
    "USOnly6 = USOnly5.drop(['Year'], axis=1)\n",
    "USOnly7 = USOnly6.drop(['Age-adjusted Death Rate'], axis=1)\n",
    "USOnly8 = USOnly7.drop(['State'], axis=1) \n",
    "USOnly8\n",
    "\n",
    "# Define list for new coulmn - in alaphabetical order because referenced dataframe has cause name alphabetical\n",
    "causePercents2 = [aPercent2, CLRDPercent2, cancerPercent2, diabetesPercent2, hPercent2, iPercent2, kPercent2, strokePercent2, suicidePercent2, uPercent2]\n",
    "# insert new column into existing dataframe\n",
    "USOnly8.insert(loc=1, column='Percents', value=causePercents2)\n",
    "# sort cause percents in descending order (high to low)\n",
    "USOnly9 = USOnly8.sort_values([\"Percents\"], ascending=False)\n",
    "# causeDeathsDf5 = causeDeathsDf4.drop(['Deaths'], axis=1)\n",
    "# rename columns\n",
    "# causeDeathsDf4 = causeDeathsDf4.rename(columns={\"Deaths\": \"US Deaths\", \"Cause Percents\": \"US Cause Percents\"})\n",
    "#display dataframe\n",
    "\n",
    "#data4\n",
    "print(USOnly9.to_dict(orient=\"list\"))"
   ]
  },
  {
   "cell_type": "markdown",
   "metadata": {},
   "source": [
    "### for pie chart percent 1999:"
   ]
  },
  {
   "cell_type": "code",
   "execution_count": 5,
   "metadata": {
    "scrolled": true
   },
   "outputs": [
    {
     "name": "stdout",
     "output_type": "stream",
     "text": [
      "{'Cause Name': ['Heart disease', 'CLRD', 'Stroke', 'Cancer', 'Unintentional injuries', 'Diabetes', 'Influenza and pneumonia', \"Alzheimer's disease\", 'Kidney disease', 'Suicide'], 'Percents': [38.051322628613526, 28.85037773647752, 8.781809042378477, 6.515862413462719, 5.134781454340533, 3.5889425372515644, 3.343956898478665, 2.336834527391273, 1.8640211645764095, 1.5320915970293196]}\n"
     ]
    }
   ],
   "source": [
    "# import dependencies\n",
    "import pandas as pd\n",
    "import numpy as np\n",
    "import math\n",
    "from flask import jsonify\n",
    "\n",
    "#look at US causes of death in 2016\n",
    "# pull US info from un-cleaned data file\n",
    "file2 = pd.read_csv('NCHS_-_Leading_Causes_of_Death__United_States.csv')\n",
    "USOnly = file2.loc[file2[\"State\"] == \"United States\", :]\n",
    "USOnly2 = USOnly.loc[USOnly[\"Cause Name\"] != \"All causes\", :]\n",
    "#grab only 2016\n",
    "USOnly3 = USOnly2.loc[USOnly[\"Year\"] == 1999, :]\n",
    "\n",
    "# use initial data table to calculate percents for each death cause\n",
    "totalDeaths2 = USOnly3[\"Deaths\"].sum()\n",
    "causeDeaths2 = USOnly3.groupby('Cause Name')['Deaths'].sum()\n",
    "uPercent2 = (causeDeaths2.loc['Unintentional injuries'] / totalDeaths2) * 100\n",
    "aPercent2 = (causeDeaths2.loc[\"Alzheimer's disease\"] / totalDeaths2) * 100\n",
    "cancerPercent2 = (causeDeaths2.loc['Cancer'] / totalDeaths2) * 100\n",
    "CLRDPercent2 = (causeDeaths2.loc['CLRD'] / totalDeaths2) * 100\n",
    "diabetesPercent2 = (causeDeaths2.loc['Diabetes'] / totalDeaths2) * 100\n",
    "hPercent2 = (causeDeaths2.loc['Heart disease'] / totalDeaths2) * 100\n",
    "iPercent2 = (causeDeaths2.loc['Influenza and pneumonia'] / totalDeaths2) * 100\n",
    "kPercent2 = (causeDeaths2.loc['Kidney disease'] / totalDeaths2) * 100\n",
    "strokePercent2 = (causeDeaths2.loc['Stroke'] / totalDeaths2) * 100\n",
    "suicidePercent2 = (causeDeaths2.loc['Suicide'] / totalDeaths2) * 100\n",
    "\n",
    "# create datafrane to hold the data we already have\n",
    "USOnly4 = USOnly3.drop(['113 Cause Name'], axis=1)\n",
    "USOnly5 = USOnly4.drop(['Deaths'], axis=1)\n",
    "USOnly6 = USOnly5.drop(['Year'], axis=1)\n",
    "USOnly7 = USOnly6.drop(['Age-adjusted Death Rate'], axis=1)\n",
    "USOnly8 = USOnly7.drop(['State'], axis=1) \n",
    "USOnly8\n",
    "\n",
    "# Define list for new coulmn - in alaphabetical order because referenced dataframe has cause name alphabetical\n",
    "causePercents2 = [aPercent2, CLRDPercent2, cancerPercent2, diabetesPercent2, hPercent2, iPercent2, kPercent2, strokePercent2, suicidePercent2, uPercent2]\n",
    "# insert new column into existing dataframe\n",
    "USOnly8.insert(loc=1, column='Percents', value=causePercents2)\n",
    "# sort cause percents in descending order (high to low)\n",
    "USOnly9 = USOnly8.sort_values([\"Percents\"], ascending=False)\n",
    "# causeDeathsDf5 = causeDeathsDf4.drop(['Deaths'], axis=1)\n",
    "# rename columns\n",
    "# causeDeathsDf4 = causeDeathsDf4.rename(columns={\"Deaths\": \"US Deaths\", \"Cause Percents\": \"US Cause Percents\"})\n",
    "#display dataframe\n",
    "\n",
    "#data4\n",
    "print(USOnly9.to_dict(orient=\"list\"))"
   ]
  },
  {
   "cell_type": "markdown",
   "metadata": {},
   "source": [
    "############################################################################################################################\n",
    "## for bar chart:"
   ]
  },
  {
   "cell_type": "markdown",
   "metadata": {},
   "source": [
    "### for bar chart rates 2016"
   ]
  },
  {
   "cell_type": "code",
   "execution_count": 6,
   "metadata": {},
   "outputs": [
    {
     "name": "stdout",
     "output_type": "stream",
     "text": [
      "{'Age-adjusted Death Rate': [30.3, 155.8, 40.6, 21.0, 165.5, 13.5, 13.1, 37.3, 13.5, 47.4]}\n"
     ]
    }
   ],
   "source": [
    "# import dependencies\n",
    "import pandas as pd\n",
    "import numpy as np\n",
    "import math\n",
    "from flask import jsonify\n",
    "\n",
    "#look at US causes of death in 2016\n",
    "# pull US info from un-cleaned data file\n",
    "file2 = pd.read_csv('NCHS_-_Leading_Causes_of_Death__United_States.csv')\n",
    "USOnly = file2.loc[file2[\"State\"] == \"United States\", :]\n",
    "USOnly2 = USOnly.loc[USOnly[\"Cause Name\"] != \"All causes\", :]\n",
    "#grab only 2016\n",
    "USOnly3 = USOnly2.loc[USOnly[\"Year\"] == 2016, :]\n",
    "USOnly3\n",
    "\n",
    "# create datafrane to hold the data we already have\n",
    "USOnly4 = USOnly3.drop(['113 Cause Name'], axis=1)\n",
    "USOnly5 = USOnly4.drop(['Deaths'], axis=1)\n",
    "USOnly6 = USOnly5.drop(['Year'], axis=1)\n",
    "USOnly7 = USOnly6.drop(['Cause Name'], axis=1)\n",
    "USOnly8 = USOnly7.drop(['State'], axis=1) \n",
    "\n",
    "print(USOnly8.to_dict(orient=\"list\"))"
   ]
  },
  {
   "cell_type": "markdown",
   "metadata": {},
   "source": [
    "### for bar chart rates 2008:"
   ]
  },
  {
   "cell_type": "code",
   "execution_count": 7,
   "metadata": {},
   "outputs": [
    {
     "name": "stdout",
     "output_type": "stream",
     "text": [
      "{'Age-adjusted Death Rate': [25.8, 176.4, 44.7, 22.0, 192.1, 17.6, 15.1, 42.1, 11.6, 39.3]}\n"
     ]
    }
   ],
   "source": [
    "# import dependencies\n",
    "import pandas as pd\n",
    "import numpy as np\n",
    "import math\n",
    "from flask import jsonify\n",
    "\n",
    "#look at US causes of death in 2016\n",
    "# pull US info from un-cleaned data file\n",
    "file2 = pd.read_csv('NCHS_-_Leading_Causes_of_Death__United_States.csv')\n",
    "USOnly = file2.loc[file2[\"State\"] == \"United States\", :]\n",
    "USOnly2 = USOnly.loc[USOnly[\"Cause Name\"] != \"All causes\", :]\n",
    "#grab only 2016\n",
    "USOnly3 = USOnly2.loc[USOnly[\"Year\"] == 2008, :]\n",
    "USOnly3\n",
    "\n",
    "# create datafrane to hold the data we already have\n",
    "USOnly4 = USOnly3.drop(['113 Cause Name'], axis=1)\n",
    "USOnly5 = USOnly4.drop(['Deaths'], axis=1)\n",
    "USOnly6 = USOnly5.drop(['Year'], axis=1)\n",
    "USOnly7 = USOnly6.drop(['Cause Name'], axis=1)\n",
    "USOnly8 = USOnly7.drop(['State'], axis=1) \n",
    "\n",
    "print(USOnly8.to_dict(orient=\"list\"))"
   ]
  },
  {
   "cell_type": "markdown",
   "metadata": {},
   "source": [
    "### for bar chart rates 1999:"
   ]
  },
  {
   "cell_type": "code",
   "execution_count": 8,
   "metadata": {},
   "outputs": [
    {
     "name": "stdout",
     "output_type": "stream",
     "text": [
      "{'Cause Name': [\"Alzheimer's disease\", 'Cancer', 'CLRD', 'Diabetes', 'Heart disease', 'Influenza and pneumonia', 'Kidney disease', 'Stroke', 'Suicide', 'Unintentional injuries'], 'Age-adjusted Death Rate': [16.5, 200.8, 45.4, 25.0, 266.5, 23.5, 13.0, 61.6, 10.5, 35.3]}\n"
     ]
    }
   ],
   "source": [
    "# import dependencies\n",
    "import pandas as pd\n",
    "import numpy as np\n",
    "import math\n",
    "from flask import jsonify\n",
    "\n",
    "#look at US causes of death in 2016\n",
    "# pull US info from un-cleaned data file\n",
    "file2 = pd.read_csv('NCHS_-_Leading_Causes_of_Death__United_States.csv')\n",
    "USOnly = file2.loc[file2[\"State\"] == \"United States\", :]\n",
    "USOnly2 = USOnly.loc[USOnly[\"Cause Name\"] != \"All causes\", :]\n",
    "#grab only 2016\n",
    "USOnly43 = USOnly2.loc[USOnly[\"Year\"] == 1999, :]\n",
    "USOnly43\n",
    "\n",
    "# create datafrane to hold the data we already have\n",
    "USOnly44 = USOnly43.drop(['113 Cause Name'], axis=1)\n",
    "USOnly45 = USOnly44.drop(['Deaths'], axis=1)\n",
    "USOnly46 = USOnly45.drop(['Year'], axis=1)\n",
    "USOnly47 = USOnly46.drop(['State'], axis=1) \n",
    "\n",
    "print(USOnly47.to_dict(orient=\"list\"))"
   ]
  },
  {
   "cell_type": "code",
   "execution_count": null,
   "metadata": {},
   "outputs": [],
   "source": []
  },
  {
   "cell_type": "code",
   "execution_count": null,
   "metadata": {},
   "outputs": [],
   "source": []
  },
  {
   "cell_type": "code",
   "execution_count": null,
   "metadata": {},
   "outputs": [],
   "source": []
  },
  {
   "cell_type": "code",
   "execution_count": null,
   "metadata": {},
   "outputs": [],
   "source": []
  },
  {
   "cell_type": "code",
   "execution_count": null,
   "metadata": {},
   "outputs": [],
   "source": []
  },
  {
   "cell_type": "code",
   "execution_count": null,
   "metadata": {},
   "outputs": [],
   "source": []
  },
  {
   "cell_type": "code",
   "execution_count": null,
   "metadata": {},
   "outputs": [],
   "source": []
  },
  {
   "cell_type": "code",
   "execution_count": null,
   "metadata": {},
   "outputs": [],
   "source": []
  },
  {
   "cell_type": "code",
   "execution_count": null,
   "metadata": {},
   "outputs": [],
   "source": []
  },
  {
   "cell_type": "code",
   "execution_count": null,
   "metadata": {},
   "outputs": [],
   "source": []
  },
  {
   "cell_type": "code",
   "execution_count": null,
   "metadata": {},
   "outputs": [],
   "source": []
  },
  {
   "cell_type": "code",
   "execution_count": null,
   "metadata": {},
   "outputs": [],
   "source": []
  },
  {
   "cell_type": "code",
   "execution_count": null,
   "metadata": {},
   "outputs": [],
   "source": []
  },
  {
   "cell_type": "code",
   "execution_count": null,
   "metadata": {},
   "outputs": [],
   "source": []
  },
  {
   "cell_type": "code",
   "execution_count": null,
   "metadata": {},
   "outputs": [],
   "source": []
  },
  {
   "cell_type": "code",
   "execution_count": null,
   "metadata": {},
   "outputs": [],
   "source": []
  },
  {
   "cell_type": "code",
   "execution_count": null,
   "metadata": {},
   "outputs": [],
   "source": []
  },
  {
   "cell_type": "code",
   "execution_count": null,
   "metadata": {},
   "outputs": [],
   "source": []
  },
  {
   "cell_type": "code",
   "execution_count": null,
   "metadata": {},
   "outputs": [],
   "source": []
  },
  {
   "cell_type": "code",
   "execution_count": null,
   "metadata": {},
   "outputs": [],
   "source": []
  },
  {
   "cell_type": "code",
   "execution_count": null,
   "metadata": {},
   "outputs": [],
   "source": []
  },
  {
   "cell_type": "code",
   "execution_count": null,
   "metadata": {},
   "outputs": [],
   "source": []
  },
  {
   "cell_type": "code",
   "execution_count": null,
   "metadata": {},
   "outputs": [],
   "source": []
  },
  {
   "cell_type": "code",
   "execution_count": null,
   "metadata": {
    "scrolled": true
   },
   "outputs": [],
   "source": []
  },
  {
   "cell_type": "code",
   "execution_count": null,
   "metadata": {},
   "outputs": [],
   "source": []
  },
  {
   "cell_type": "code",
   "execution_count": null,
   "metadata": {},
   "outputs": [],
   "source": []
  },
  {
   "cell_type": "code",
   "execution_count": null,
   "metadata": {},
   "outputs": [],
   "source": []
  },
  {
   "cell_type": "code",
   "execution_count": null,
   "metadata": {},
   "outputs": [],
   "source": []
  },
  {
   "cell_type": "code",
   "execution_count": null,
   "metadata": {},
   "outputs": [],
   "source": []
  },
  {
   "cell_type": "code",
   "execution_count": 9,
   "metadata": {},
   "outputs": [],
   "source": [
    "# import dependencies\n",
    "import pandas as pd\n",
    "import numpy as np\n",
    "import math"
   ]
  },
  {
   "cell_type": "code",
   "execution_count": 10,
   "metadata": {},
   "outputs": [],
   "source": [
    "# #import and read csv file\n",
    "# # my_file=\"gssInitialData.csv\"\n",
    "# # df=pd.read_csv(my_file)\n",
    "\n",
    "# # view shape of dataset\n",
    "# df.shape\n",
    "# # observe first few rows of dataset\n",
    "# df.head()\n",
    "# # view data types\n",
    "# df.dtypes\n",
    "\n",
    "# # Quantify happiness response\n",
    "# dfclean = df.replace(\"Very happy\", 10)\n",
    "# dfclean2 = dfclean.replace(\"Pretty happy\", 5)\n",
    "# dfclean3 = dfclean2.replace(\"Not too happy\", 0)\n",
    "\n",
    "# # drop all types of no answer responses\n",
    "# dfclean4 = dfclean3[dfclean3 != \"Not applicable\"]\n",
    "# dfclean5 = dfclean4[dfclean4 != \"No answer\"]\n",
    "# dfclean6 = dfclean5[dfclean5 != \"Don't know\"]\n",
    "# dfclean7 = dfclean6[dfclean6 != \"Refused\"] \n",
    "# dfclean8 = dfclean7.dropna()\n",
    "\n",
    "# # convert happiness responses to numbers\n",
    "# dfclean8[\"General happiness\"] = pd.to_numeric(dfclean8[\"General happiness\"])\n",
    "# dfclean8[\"Year\"] = dfclean8[\"Year\"].astype('str')\n",
    "# dfclean8[\"ID\"] = dfclean8[\"ID\"].astype('str')\n",
    "\n",
    "# dfclean8\n",
    "# dfclean8.dtypes\n",
    "\n",
    "# dfclean8.groupby(\"U.S. Region\").mean()\n",
    "# dfclean8.groupby(\"Health Condition\").mean()\n",
    "# dfclean8.groupby(\"Income\").mean()\n",
    "# dfclean8.groupby(\"Race\").mean()\n",
    "# dfclean8.groupby(\"Sex\").mean()\n",
    "# dfclean8.groupby(\"Marital status\").mean()\n",
    "# dfclean8.groupby(\"Work Status\").mean()\n",
    "\n",
    "# # line chart\n",
    "# # gender and work status - mean happiness for each year\n",
    "\n",
    "# # year1 = dfclean8.loc[dfclean8[\"year\"] == \"2000\", :]\n",
    "# # sex1 = year1.groupby(\"Sex\").mean()\n",
    "# # work1 = year1.groupby(\"Work Status\").mean()\n",
    "\n",
    "# from flask import jsonify\n",
    "# dfclean8.to_dict(orient=\"record\")\n",
    "# dfclean8.to_csv('gssCleanedData.csv', index=False)"
   ]
  }
 ],
 "metadata": {
  "kernelspec": {
   "display_name": "Python 3",
   "language": "python",
   "name": "python3"
  },
  "language_info": {
   "codemirror_mode": {
    "name": "ipython",
    "version": 3
   },
   "file_extension": ".py",
   "mimetype": "text/x-python",
   "name": "python",
   "nbconvert_exporter": "python",
   "pygments_lexer": "ipython3",
   "version": "3.6.5"
  }
 },
 "nbformat": 4,
 "nbformat_minor": 2
}
